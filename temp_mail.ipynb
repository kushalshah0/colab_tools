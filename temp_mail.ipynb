{
  "nbformat": 4,
  "nbformat_minor": 0,
  "metadata": {
    "colab": {
      "provenance": [],
      "authorship_tag": "ABX9TyO2PX5nx+BUfpF1MylY2WJo",
      "include_colab_link": true
    },
    "kernelspec": {
      "name": "python3",
      "display_name": "Python 3"
    },
    "language_info": {
      "name": "python"
    }
  },
  "cells": [
    {
      "cell_type": "markdown",
      "metadata": {
        "id": "view-in-github",
        "colab_type": "text"
      },
      "source": [
        "<a href=\"https://colab.research.google.com/github/kushalshah0/colab_tools/blob/main/temp_mail.ipynb\" target=\"_parent\"><img src=\"https://colab.research.google.com/assets/colab-badge.svg\" alt=\"Open In Colab\"/></a>"
      ]
    },
    {
      "cell_type": "code",
      "execution_count": null,
      "metadata": {
        "id": "lafaQY2gf3LA"
      },
      "outputs": [],
      "source": [
        "!apt-get update && apt-get upgrade -y\n",
        "!apt-get install git -y\n",
        "!apt-get install python3 -y\n",
        "!pip install requests\n",
        "!git clone https://github.com/Nabil-Official/N-MAIL\n",
        "%cd N-MAIL\n",
        "!python3 n-mail.py"
      ]
    }
  ]
}