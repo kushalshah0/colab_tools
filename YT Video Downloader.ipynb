{
  "nbformat": 4,
  "nbformat_minor": 0,
  "metadata": {
    "colab": {
      "provenance": [],
      "gpuType": "T4",
      "include_colab_link": true
    },
    "kernelspec": {
      "name": "python3",
      "display_name": "Python 3"
    },
    "language_info": {
      "name": "python"
    },
    "accelerator": "GPU"
  },
  "cells": [
    {
      "cell_type": "markdown",
      "metadata": {
        "id": "view-in-github",
        "colab_type": "text"
      },
      "source": [
        "<a href=\"https://colab.research.google.com/github/kushalshah0/colab_tools/blob/main/YT%20Video%20Downloader.ipynb\" target=\"_parent\"><img src=\"https://colab.research.google.com/assets/colab-badge.svg\" alt=\"Open In Colab\"/></a>"
      ]
    },
    {
      "cell_type": "markdown",
      "source": [
        "<font size=\"4\"><strong>Developed with ❤ by : <br> <a href=\"https://www.kushalshah.com.np\" target=\"_blank\">Kushal Shah</a> & <a href=\"https://www.sumitrajak.com.np\" target=\"_blank\">Sumit Kumar Rajak</a></strong></font><br>\n",
        "<i><p><strong>Caution</strong> : The downloading speed may depend upon your internet connection.</p><i>"
      ],
      "metadata": {
        "id": "N2coAC_XVnIP"
      }
    },
    {
      "cell_type": "code",
      "source": [
        " !pip install -q pytube\n",
        "from pytube import YouTube\n",
        "from google.colab import files\n",
        "import re\n",
        "#@title **Youtube Video Downloader**\n",
        "\n",
        "URL = 'https://youtu.be/Ke9nRCGt9To?si=-PIdn0zsNH_zxKuj' #@param {type:\"string\"}\n",
        "\n",
        "# Use a regular expression to extract the video ID from the URL\n",
        "video_id_match = re.search(r'youtu\\.be/([^/?]+)', URL)\n",
        "if video_id_match:\n",
        "    video_id = video_id_match.group(1)\n",
        "else:\n",
        "    # If the URL doesn't match the expected formats, you can handle the error or provide a default video ID.\n",
        "    # print(\"Invalid YouTube URL format.\")\n",
        "    video_id = 'YOUR_DEFAULT_VIDEO_ID'\n",
        "\n",
        "# Create a YouTube object\n",
        "yt = YouTube(f'https://www.youtube.com/watch?v={video_id}')\n",
        "\n",
        "\n",
        "# Create a YouTube object\n",
        "yt = YouTube(URL)\n",
        "\n",
        "Resolution = '1080p' #@param ['144p', '240p', '360p', '480p', '720p', '1080p']\n",
        "# Choose the stream with the desired resolution and format (e.g., '720p', 'mp4')\n",
        "stream = yt.streams.filter(res=Resolution, file_extension='mp4').first()\n",
        "\n",
        "# Download the video\n",
        "fname = 'vid.mp4'\n",
        "stream.download(output_path='/content',filename=fname)\n",
        "\n",
        "# Specify the local file you want to make accessible\n",
        "local_file_path = '/content/vid.mp4'\n",
        "\n",
        "# Trigger a download link for the file\n",
        "files.download(local_file_path)"
      ],
      "metadata": {
        "id": "tPmbz6k85Xri"
      },
      "execution_count": null,
      "outputs": []
    }
  ]
}