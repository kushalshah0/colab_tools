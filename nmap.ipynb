{
  "nbformat": 4,
  "nbformat_minor": 0,
  "metadata": {
    "colab": {
      "provenance": [],
      "authorship_tag": "ABX9TyPM3zCHMbglFReeR5h68Uec",
      "include_colab_link": true
    },
    "kernelspec": {
      "name": "python3",
      "display_name": "Python 3"
    },
    "language_info": {
      "name": "python"
    }
  },
  "cells": [
    {
      "cell_type": "markdown",
      "metadata": {
        "id": "view-in-github",
        "colab_type": "text"
      },
      "source": [
        "<a href=\"https://colab.research.google.com/github/kushalshah0/colab_tools/blob/main/nmap.ipynb\" target=\"_parent\"><img src=\"https://colab.research.google.com/assets/colab-badge.svg\" alt=\"Open In Colab\"/></a>"
      ]
    },
    {
      "cell_type": "code",
      "execution_count": null,
      "metadata": {
        "id": "Su85kvv5RiBx"
      },
      "outputs": [],
      "source": [
        "import os\n",
        "os.system('apt install nmap')"
      ]
    },
    {
      "cell_type": "code",
      "source": [
        "!nmap -A IP"
      ],
      "metadata": {
        "id": "Wu72QZ8t2QBZ"
      },
      "execution_count": null,
      "outputs": []
    }
  ]
}