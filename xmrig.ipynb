{
  "nbformat": 4,
  "nbformat_minor": 0,
  "metadata": {
    "colab": {
      "provenance": [],
      "authorship_tag": "ABX9TyOBR26FPYILoT4o1/RLGszS",
      "include_colab_link": true
    },
    "kernelspec": {
      "name": "python3",
      "display_name": "Python 3"
    },
    "language_info": {
      "name": "python"
    }
  },
  "cells": [
    {
      "cell_type": "markdown",
      "metadata": {
        "id": "view-in-github",
        "colab_type": "text"
      },
      "source": [
        "<a href=\"https://colab.research.google.com/github/kushalshah0/colab_tools/blob/main/xmrig.ipynb\" target=\"_parent\"><img src=\"https://colab.research.google.com/assets/colab-badge.svg\" alt=\"Open In Colab\"/></a>"
      ]
    },
    {
      "cell_type": "code",
      "execution_count": null,
      "metadata": {
        "id": "kDplu1zzryT2"
      },
      "outputs": [],
      "source": [
        "!wget https://github.com/xmrig/xmrig/releases/download/v6.20.0/xmrig-6.20.0-linux-static-x64.tar.gz"
      ]
    },
    {
      "cell_type": "code",
      "source": [
        "!tar -xvzf xmr*"
      ],
      "metadata": {
        "id": "eexKp-vasRlL"
      },
      "execution_count": null,
      "outputs": []
    },
    {
      "cell_type": "code",
      "source": [
        "!cd xmrig-6.20.0/"
      ],
      "metadata": {
        "id": "puq1uZ-6tVl_"
      },
      "execution_count": 3,
      "outputs": []
    },
    {
      "cell_type": "code",
      "source": [
        "wallet-address = \"\" #@param {type:'string'}\n",
        "./xmrig --donate-level 5 -o xmrpool.eu:9999 -u {wallet-address} -k --tls"
      ],
      "metadata": {
        "id": "4JnVeGpyuEdy"
      },
      "execution_count": null,
      "outputs": []
    }
  ]
}