{
  "nbformat": 4,
  "nbformat_minor": 0,
  "metadata": {
    "colab": {
      "provenance": [],
      "authorship_tag": "ABX9TyOXZ4IkktuE8CVfUPv7lE4y"
    },
    "kernelspec": {
      "name": "python3",
      "display_name": "Python 3"
    },
    "language_info": {
      "name": "python"
    }
  },
  "cells": [
    {
      "cell_type": "markdown",
      "source": [
        "<font size=\"4\"><strong>Developed with ❤ by : <a href=\"https://www.kushalshah.com.np\" target=\"_blank\">Kushal Shah</a></strong></font><br>\n",
        "<i><p><strong>Caution</strong> : The downloading speed may depend upon your internet connection.</p></i>\n",
        "Other tools : **[Colab Tools](https://github.com/kushalshah0/colab_tools)**"
      ],
      "metadata": {
        "id": "pUqjV0gYfrx9"
      }
    },
    {
      "cell_type": "code",
      "execution_count": null,
      "metadata": {
        "cellView": "form",
        "id": "QTdTTiLB28Xm"
      },
      "outputs": [],
      "source": [
        "#@title **Google Drive**\n",
        "#@markdown **Mount**\n",
        "from google.colab import drive\n",
        "drive.mount('/content/drive')"
      ]
    },
    {
      "cell_type": "code",
      "source": [
        "#@title **Download The Video**\n",
        "URL = '' #@param {type:'string'}\n",
        "Resolution = '720p' #@param ['360p', '480p', '720p', '1080p']\n",
        "print(\"Downloading ...\")\n",
        "!pip install -q youtube-dl\n",
        "!youtube-dl -q -o \"/content/drive/My Drive/ColabVideos/%(title)s.%(ext)s\" --format $Resolution $URL\n",
        "print(\"Downloaded Successfully !\")\n",
        "print(\"Check your G-Drive !\")"
      ],
      "metadata": {
        "cellView": "form",
        "id": "cdF7Rpn74sMF"
      },
      "execution_count": null,
      "outputs": []
    },
    {
      "cell_type": "code",
      "source": [
        "URL = \"\" #@param {type:'string'}\n",
        "!wget -P /content/drive/MyDrive -O \"/content/drive/MyDrive/video.mp4\" $URL"
      ],
      "metadata": {
        "cellView": "form",
        "id": "zX4_6ZXTv8Rf"
      },
      "execution_count": null,
      "outputs": []
    }
  ]
}