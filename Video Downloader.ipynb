{
  "nbformat": 4,
  "nbformat_minor": 0,
  "metadata": {
    "colab": {
      "provenance": [],
      "authorship_tag": "ABX9TyNgDsGxMI9EYWBKm7zxVF2r"
    },
    "kernelspec": {
      "name": "python3",
      "display_name": "Python 3"
    },
    "language_info": {
      "name": "python"
    }
  },
  "cells": [
    {
      "cell_type": "code",
      "execution_count": null,
      "metadata": {
        "cellView": "form",
        "id": "QTdTTiLB28Xm"
      },
      "outputs": [],
      "source": [
        "#@title **Google Drive**\n",
        "#@markdown **Mount**\n",
        "from google.colab import drive\n",
        "drive.mount('/content/drive')"
      ]
    },
    {
      "cell_type": "code",
      "source": [
        "#@title **Download The Video**\n",
        "URL = '' #@param {type:'string'}\n",
        "Resolution = '720p' #@param ['360p', '480p', '720p', '1080p']\n",
        "print(\"Downloading ...\")\n",
        "!pip install -q youtube-dl\n",
        "!youtube-dl -q -o \"/content/drive/My Drive/ColabVideos/%(title)s.%(ext)s\" --format $Resolution $URL\n",
        "print(\"Downloaded Successfully !\")\n",
        "print(\"Check your G-Drive !\")"
      ],
      "metadata": {
        "cellView": "form",
        "id": "cdF7Rpn74sMF"
      },
      "execution_count": null,
      "outputs": []
    }
  ]
}