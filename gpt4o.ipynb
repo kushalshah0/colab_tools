{
  "nbformat": 4,
  "nbformat_minor": 0,
  "metadata": {
    "colab": {
      "provenance": [],
      "authorship_tag": "ABX9TyPAhbFZbVYVzNKAtseC4zkU",
      "include_colab_link": true
    },
    "kernelspec": {
      "name": "python3",
      "display_name": "Python 3"
    },
    "language_info": {
      "name": "python"
    }
  },
  "cells": [
    {
      "cell_type": "markdown",
      "metadata": {
        "id": "view-in-github",
        "colab_type": "text"
      },
      "source": [
        "<a href=\"https://colab.research.google.com/github/kushalshah0/colab_tools/blob/main/gpt4o.ipynb\" target=\"_parent\"><img src=\"https://colab.research.google.com/assets/colab-badge.svg\" alt=\"Open In Colab\"/></a>"
      ]
    },
    {
      "cell_type": "code",
      "execution_count": null,
      "metadata": {
        "id": "iwlpEsLuc3L2"
      },
      "outputs": [],
      "source": [
        "\n",
        "# Install Python 3.11 and g4f\n",
        "!sudo apt-get update -y\n",
        "!sudo apt-get install python3.11 python3.11-dev python3.11-venv -y\n",
        "!python3.11 -m venv g4f-env\n",
        "!source g4f-env/bin/activate\n",
        "!pip install -U pip\n",
        "!pip install -U g4f\n",
        "\n",
        "# Run g4f tool\n",
        "import subprocess\n",
        "subprocess.Popen([\"python3.11\", \"-m\", \"g4f.cli\", \"gui\", \"-port\", \"8080\", \"-debug\"])\n",
        "\n",
        "# Install and setup ngrok\n",
        "!pip install pyngrok\n",
        "from pyngrok import ngrok\n",
        "\n",
        "# Open an HTTP tunnel on the port where g4f is running\n",
        "public_url = ngrok.connect(8080)\n",
        "print(\"Public URL:\", public_url)"
      ]
    }
  ]
}