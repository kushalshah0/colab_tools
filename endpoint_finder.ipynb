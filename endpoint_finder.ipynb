{
  "nbformat": 4,
  "nbformat_minor": 0,
  "metadata": {
    "colab": {
      "provenance": [],
      "authorship_tag": "ABX9TyM0qRl8H2R0PfgAE9VbziPH",
      "include_colab_link": true
    },
    "kernelspec": {
      "name": "python3",
      "display_name": "Python 3"
    },
    "language_info": {
      "name": "python"
    }
  },
  "cells": [
    {
      "cell_type": "markdown",
      "metadata": {
        "id": "view-in-github",
        "colab_type": "text"
      },
      "source": [
        "<a href=\"https://colab.research.google.com/github/kushalshah0/colab_tools/blob/main/endpoint_finder.ipynb\" target=\"_parent\"><img src=\"https://colab.research.google.com/assets/colab-badge.svg\" alt=\"Open In Colab\"/></a>"
      ]
    },
    {
      "cell_type": "code",
      "execution_count": null,
      "metadata": {
        "id": "YiIqWAuB41ZN"
      },
      "outputs": [],
      "source": [
        "!git clone https://github.com/xnl-h4ck3r/xnLinkFinder.git\n",
        "%cd xnLinkFinder"
      ]
    },
    {
      "cell_type": "code",
      "source": [
        "!python3 setup.py install -p\n",
        "!xnLinkFinder -i thapathali.emis.com.np -sf thapathali.emis.com.np -o endpoints.txt -op parameters.txt"
      ],
      "metadata": {
        "id": "lmq9NWa1PioL"
      },
      "execution_count": null,
      "outputs": []
    }
  ]
}