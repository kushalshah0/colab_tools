{
  "nbformat": 4,
  "nbformat_minor": 0,
  "metadata": {
    "colab": {
      "provenance": [],
      "authorship_tag": "ABX9TyMMVCVfIlbcSE+nB7nJl5XK",
      "include_colab_link": true
    },
    "kernelspec": {
      "name": "python3",
      "display_name": "Python 3"
    },
    "language_info": {
      "name": "python"
    }
  },
  "cells": [
    {
      "cell_type": "markdown",
      "metadata": {
        "id": "view-in-github",
        "colab_type": "text"
      },
      "source": [
        "<a href=\"https://colab.research.google.com/github/kushalshah0/colab_tools/blob/main/endpoint_finder.ipynb\" target=\"_parent\"><img src=\"https://colab.research.google.com/assets/colab-badge.svg\" alt=\"Open In Colab\"/></a>"
      ]
    },
    {
      "cell_type": "code",
      "execution_count": null,
      "metadata": {
        "id": "YiIqWAuB41ZN"
      },
      "outputs": [],
      "source": [
        "!git clone https://github.com/xnl-h4ck3r/xnLinkFinder.git\n",
        "%cd xnLinkFinder"
      ]
    },
    {
      "cell_type": "code",
      "source": [
        "!python3 setup.py install -q"
      ],
      "metadata": {
        "id": "AfE_lyexmzJV"
      },
      "execution_count": null,
      "outputs": []
    },
    {
      "cell_type": "code",
      "source": [
        "!xnLinkFinder -i digitalnce.com -sf digitalnce.com -o endpoints.txt -op parameters.txt"
      ],
      "metadata": {
        "id": "lmq9NWa1PioL"
      },
      "execution_count": null,
      "outputs": []
    }
  ]
}