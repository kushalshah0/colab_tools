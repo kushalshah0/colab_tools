{
  "nbformat": 4,
  "nbformat_minor": 0,
  "metadata": {
    "colab": {
      "provenance": [],
      "authorship_tag": "ABX9TyOAXV8aXmbCtyKyf/0ceMfL",
      "include_colab_link": true
    },
    "kernelspec": {
      "name": "python3",
      "display_name": "Python 3"
    },
    "language_info": {
      "name": "python"
    }
  },
  "cells": [
    {
      "cell_type": "markdown",
      "metadata": {
        "id": "view-in-github",
        "colab_type": "text"
      },
      "source": [
        "<a href=\"https://colab.research.google.com/github/kushalshah0/colab_tools/blob/main/sqlmap.ipynb\" target=\"_parent\"><img src=\"https://colab.research.google.com/assets/colab-badge.svg\" alt=\"Open In Colab\"/></a>"
      ]
    },
    {
      "cell_type": "code",
      "execution_count": null,
      "metadata": {
        "id": "aY96Im8kRo3G"
      },
      "outputs": [],
      "source": [
        "!git clone --depth 1 https://github.com/sqlmapproject/sqlmap.git sqlmap-dev"
      ]
    },
    {
      "cell_type": "code",
      "source": [
        "!python sqlmap-dev/sqlmap.py -u \"URL\" --dbs\n"
      ],
      "metadata": {
        "id": "lNw_YsuARtJz"
      },
      "execution_count": null,
      "outputs": []
    }
  ]
}