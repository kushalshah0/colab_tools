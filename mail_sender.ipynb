{
  "nbformat": 4,
  "nbformat_minor": 0,
  "metadata": {
    "colab": {
      "provenance": [],
      "authorship_tag": "ABX9TyOs1y3OeOcQYU4FwN9HoN7g",
      "include_colab_link": true
    },
    "kernelspec": {
      "name": "python3",
      "display_name": "Python 3"
    },
    "language_info": {
      "name": "python"
    }
  },
  "cells": [
    {
      "cell_type": "markdown",
      "metadata": {
        "id": "view-in-github",
        "colab_type": "text"
      },
      "source": [
        "<a href=\"https://colab.research.google.com/github/kushalshah0/colab_tools/blob/main/mail_sender.ipynb\" target=\"_parent\"><img src=\"https://colab.research.google.com/assets/colab-badge.svg\" alt=\"Open In Colab\"/></a>"
      ]
    },
    {
      "cell_type": "code",
      "execution_count": null,
      "metadata": {
        "id": "5f_dYaLeCYJF"
      },
      "outputs": [],
      "source": [
        "import smtplib\n",
        "import os\n",
        "from email.mime.multipart import MIMEMultipart\n",
        "from email.mime.text import MIMEText\n",
        "from email.mime.application import MIMEApplication\n",
        "from dotenv import load_dotenv\n",
        "\n",
        "# Load environment variables from a .env file (Recommended for security)\n",
        "load_dotenv()\n",
        "\n",
        "# Sender email credentials (Use environment variables for security)\n",
        "SMTP_SERVER = \"smtp.gmail.com\"\n",
        "SMTP_PORT = 587\n",
        "SENDER_EMAIL = os.getenv(\"EMAIL_USER\")  # Store in .env file or system environment\n",
        "SENDER_PASSWORD = os.getenv(\"EMAIL_PASS\")  # Use an App Password, not your real password\n",
        "\n",
        "# List of recipient emails and their names\n",
        "recipients = {\n",
        "\n",
        "}\n",
        "\n",
        "# Path to the PDF you want to attach\n",
        "PDF_PATH = \"/Users/amrit/Desktop/mail/Microprocessor.Microcontroller.pdf\"  # Make sure to update this with your PDF file path\n",
        "\n",
        "# Email subject and body\n",
        "SUBJECT = \"Your Vote Matters in the Upcoming Elections!\"\n",
        "BODY_TEMPLATE = \"\"\"\\\n",
        "Dear {name},\n",
        "\n",
        "I hope this message finds you well. As the upcoming elections are approaching, I want to take this opportunity to ask for your support. Your vote is crucial in shaping the future of our community, and I would be truly honored to have your vote in this important election.\n",
        "\n",
        "Every vote counts, and your support will make a difference in ensuring a brighter and better future for all of us. Please remember to vote and encourage others to do the same!\n",
        "\n",
        "### My Key Agendas:\n",
        "1. *Improving Education*: I believe in quality education for all. I will work towards improving the infrastructure in our schools, providing better resources for teachers and students, and making education more accessible.\n",
        "\n",
        "2. *Healthcare Access for All*: I will push for more affordable and accessible healthcare for all members of our community, ensuring that everyone can receive the care they need when they need it.\n",
        "\n",
        "3. *Job Creation and Economic Growth*: I aim to create more job opportunities and support local businesses to boost the economy and reduce unemployment in our area.\n",
        "\n",
        "4. *Environmental Sustainability*: Our environment is our future. I will advocate for policies that protect the environment while promoting sustainable development.\n",
        "\n",
        "5. *Youth Empowerment*: I will focus on empowering the youth by providing more opportunities for skill development, employment, and leadership roles in our community.\n",
        "\n",
        "Thank you for your time and consideration. Together, we can bring positive change.\n",
        "\n",
        "Best regards,\n",
        "[Your Name]\n",
        "\"\"\"\n",
        "\n",
        "# Function to send email with PDF attachment\n",
        "def send_email():\n",
        "    try:\n",
        "        # Establish a connection with the SMTP server\n",
        "        server = smtplib.SMTP(SMTP_SERVER, SMTP_PORT)\n",
        "        server.starttls()  # Secure the connection\n",
        "        server.login(SENDER_EMAIL, SENDER_PASSWORD)  # Login to email account\n",
        "\n",
        "        for recipient_email, recipient_name in recipients.items():\n",
        "            # Personalize the body of the email\n",
        "            body = BODY_TEMPLATE.format(name=recipient_name)\n",
        "\n",
        "            # Create the email message\n",
        "            msg = MIMEMultipart()\n",
        "            msg[\"From\"] = SENDER_EMAIL\n",
        "            msg[\"To\"] = recipient_email\n",
        "            msg[\"Subject\"] = SUBJECT\n",
        "            msg.attach(MIMEText(body, \"plain\"))\n",
        "\n",
        "            # Attach the PDF\n",
        "            with open(PDF_PATH, 'rb') as pdf_file:\n",
        "                pdf = MIMEApplication(pdf_file.read(), _subtype=\"pdf\")\n",
        "                pdf.add_header('Content-Disposition', 'attachment', filename=os.path.basename(PDF_PATH))\n",
        "                msg.attach(pdf)\n",
        "\n",
        "            # Send the email\n",
        "            server.sendmail(SENDER_EMAIL, recipient_email, msg.as_string())\n",
        "            print(f\"Email sent to {recipient_name} ({recipient_email})\")\n",
        "\n",
        "        # Close the connection\n",
        "        server.quit()\n",
        "        print(\"All emails sent successfully!\")\n",
        "\n",
        "    except Exception as e:\n",
        "        print(f\"Error: {e}\")\n",
        "\n",
        "# Run the function\n",
        "send_email()"
      ]
    }
  ]
}