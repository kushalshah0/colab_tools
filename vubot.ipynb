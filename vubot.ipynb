{
  "nbformat": 4,
  "nbformat_minor": 0,
  "metadata": {
    "colab": {
      "provenance": [],
      "authorship_tag": "ABX9TyOsr2CYGtifn57oTMwN2cMb",
      "include_colab_link": true
    },
    "kernelspec": {
      "name": "python3",
      "display_name": "Python 3"
    },
    "language_info": {
      "name": "python"
    }
  },
  "cells": [
    {
      "cell_type": "markdown",
      "metadata": {
        "id": "view-in-github",
        "colab_type": "text"
      },
      "source": [
        "<a href=\"https://colab.research.google.com/github/kushalshah0/colab_tools/blob/main/vubot.ipynb\" target=\"_parent\"><img src=\"https://colab.research.google.com/assets/colab-badge.svg\" alt=\"Open In Colab\"/></a>"
      ]
    },
    {
      "cell_type": "code",
      "execution_count": null,
      "metadata": {
        "id": "-0To_XJM2pH5",
        "cellView": "form"
      },
      "outputs": [],
      "source": [
        "#@markdown **Run Me**\n",
        "%cd /content\n",
        "!apt-get -qq update\n",
        "!apt-get -qq install php git\n",
        "!git clone -q https://github.com/arpitgoswami/webautomation.git\n",
        "%cd webautomation\n",
        "!php script.php"
      ]
    }
  ]
}