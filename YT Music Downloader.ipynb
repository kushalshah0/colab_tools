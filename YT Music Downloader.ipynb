{
  "nbformat": 4,
  "nbformat_minor": 0,
  "metadata": {
    "colab": {
      "provenance": [],
      "authorship_tag": "ABX9TyPJshXKqPrBd3ZPP2URFdbM"
    },
    "kernelspec": {
      "name": "python3",
      "display_name": "Python 3"
    },
    "language_info": {
      "name": "python"
    }
  },
  "cells": [
    {
      "cell_type": "markdown",
      "source": [
        "<font size=\"4\"><strong>Developed with ❤ by : <a href=\"https://www.kushalshah.com.np\" target=\"_blank\">Kushal Shah</a></strong></font><br>\n",
        "<i><p><strong>Caution</strong> : The downloading speed may depend upon your internet connection.</p><i>\n",
        "Other tools : **[Colab Tools](https://colab.research.google.com/github/kushalshah0/colab_tools)**"
      ],
      "metadata": {
        "id": "FaXQW6Pz5JOn"
      }
    },
    {
      "cell_type": "code",
      "source": [
        "!pip install -q pytube\n",
        "from pytube import YouTube\n",
        "from google.colab import files\n",
        "import re\n",
        "#@title **YouTube Music Downloader**\n",
        "\n",
        "URL = '' #@param {type:\"string\"}\n",
        "\n",
        "# Use a regular expression to extract the video ID from the URL\n",
        "video_id_match = re.search(r'youtu\\.be/([^/?]+)', URL)\n",
        "if video_id_match:\n",
        "    video_id = video_id_match.group(1)\n",
        "    # Create a YouTube object\n",
        "    yt = YouTube(f'https://www.youtube.com/watch?v={video_id}')\n",
        "\n",
        "# Create a YouTube object\n",
        "yt = YouTube(URL)\n",
        "\n",
        "Bitrate = '128kbps' #@param ['128kbps', '192kbps', '256kbps', '320kbps']\n",
        "\n",
        "stream = yt.streams.filter(only_audio=True,abr=Bitrate).first()\n",
        "\n",
        "if stream:\n",
        "    # Download the audio\n",
        "    fname = f'{yt.title}.mp3'\n",
        "    stream.download(output_path='/content',filename=fname)\n",
        "\n",
        "# Specify the local file you want to make accessible\n",
        "    local_file_path = '/content/' + fname\n",
        "\n",
        "# Trigger a download link for the file\n",
        "    files.download(local_file_path)\n",
        "\n",
        "else:\n",
        "    print(f\"No suitable {Bitrate} audio stream found for '{yt.title}'.\")\n",
        "    print(f\"Please try with other bitrates.\")"
      ],
      "metadata": {
        "id": "HuPOQD845MQF",
        "cellView": "form"
      },
      "execution_count": null,
      "outputs": []
    }
  ]
}