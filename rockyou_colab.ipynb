{
  "nbformat": 4,
  "nbformat_minor": 0,
  "metadata": {
    "colab": {
      "provenance": [],
      "gpuType": "T4",
      "authorship_tag": "ABX9TyMINixu0CVcV03zRL2bNzcT",
      "include_colab_link": true
    },
    "kernelspec": {
      "name": "python3",
      "display_name": "Python 3"
    },
    "language_info": {
      "name": "python"
    },
    "accelerator": "GPU"
  },
  "cells": [
    {
      "cell_type": "markdown",
      "metadata": {
        "id": "view-in-github",
        "colab_type": "text"
      },
      "source": [
        "<a href=\"https://colab.research.google.com/github/kushalshah0/colab_tools/blob/main/rockyou_colab.ipynb\" target=\"_parent\"><img src=\"https://colab.research.google.com/assets/colab-badge.svg\" alt=\"Open In Colab\"/></a>"
      ]
    },
    {
      "cell_type": "code",
      "execution_count": null,
      "metadata": {
        "id": "OqImyYmVOPvA"
      },
      "outputs": [],
      "source": [
        "# Install Aircrack-ng\n",
        "!apt-get install aircrack-ng\n",
        "\n",
        "# Download Rockyou wordlist\n",
        "!wget https://github.com/brannondorsey/naive-hashcat/releases/download/data/rockyou.txt\n",
        "\n",
        "from google.colab import files\n",
        "uploaded = files.upload()\n",
        "\n",
        "!unzip \"handshake.zip\"\n",
        "\n",
        "# Start the cracking process using Aircrack-ng\n",
        "!aircrack-ng /content/handshake.cap -w /content/rockyou.txt"
      ]
    }
  ]
}