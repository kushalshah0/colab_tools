{
  "nbformat": 4,
  "nbformat_minor": 0,
  "metadata": {
    "colab": {
      "provenance": [],
      "include_colab_link": true
    },
    "kernelspec": {
      "name": "python3",
      "display_name": "Python 3"
    },
    "language_info": {
      "name": "python"
    }
  },
  "cells": [
    {
      "cell_type": "markdown",
      "metadata": {
        "id": "view-in-github",
        "colab_type": "text"
      },
      "source": [
        "<a href=\"https://colab.research.google.com/github/kushalshah0/colab_tools/blob/main/idToJson.ipynb\" target=\"_parent\"><img src=\"https://colab.research.google.com/assets/colab-badge.svg\" alt=\"Open In Colab\"/></a>"
      ]
    },
    {
      "cell_type": "code",
      "source": [
        "#@title **DB Downloader**\n",
        "import requests\n",
        "from bs4 import BeautifulSoup\n",
        "import json\n",
        "from collections import OrderedDict\n",
        "import time\n",
        "\n",
        "def fetch_user_details(user_id):\n",
        "    url = \"\"\n",
        "    params = {\"u\": user_id}\n",
        "    response = requests.get(url, params=params)\n",
        "    if response.status_code == 200:\n",
        "        soup = BeautifulSoup(response.content, 'html.parser')\n",
        "        image_url = soup.select_one(\"#ContentPlaceHolder1_studentImage img\")['src']\n",
        "        rows = soup.select(\"table.table-striped.table-bordered tbody tr\")\n",
        "        data = OrderedDict()\n",
        "        data[\"Image\"] = image_url\n",
        "        for row in rows:\n",
        "            key = row.find_all('td')[0].text.strip()\n",
        "            value = row.find_all('td')[1].text.strip()\n",
        "            data[key] = value\n",
        "        return data\n",
        "    else:\n",
        "        print(f\"Failed to retrieve data for user ID {user_id}: {response.status_code}\")\n",
        "        return None\n",
        "\n",
        "start_user_id =\n",
        "end_user_id =\n",
        "\n",
        "all_user_details = []\n",
        "\n",
        "for user_id in range(start_user_id, end_user_id + 1):\n",
        "    user_details = fetch_user_details(user_id)\n",
        "    if user_details:\n",
        "        all_user_details.append(user_details)\n",
        "    time.sleep(1)\n",
        "\n",
        "json_data = json.dumps(all_user_details, indent=4)\n",
        "\n",
        "with open(\"user_details.json\", \"w\") as json_file:\n",
        "    json_file.write(json_data)\n",
        "\n",
        "print(\"User details have been successfully fetched and saved to user_details.json\")"
      ],
      "metadata": {
        "id": "uZV2vARGdqHA",
        "cellView": "form"
      },
      "execution_count": null,
      "outputs": []
    },
    {
      "cell_type": "code",
      "source": [
        "#@title **images Downloader**\n",
        "import json\n",
        "import requests\n",
        "import os\n",
        "\n",
        "def download_images_from_json(json_file):\n",
        "    # Load the JSON data\n",
        "    with open(json_file, 'r') as file:\n",
        "        data = json.load(file)\n",
        "\n",
        "    # Create an images directory if it doesn't exist\n",
        "    if not os.path.exists('images'):\n",
        "        os.makedirs('images')\n",
        "\n",
        "    # Iterate through each entry in the JSON data\n",
        "    for entry in data:\n",
        "        image_url = entry.get(\"Image\")\n",
        "        roll_no = entry.get(\"RollNo\")\n",
        "\n",
        "        if image_url:\n",
        "            # Download the image\n",
        "            try:\n",
        "                response = requests.get(image_url)\n",
        "                response.raise_for_status()  # Raise an error for bad responses\n",
        "                # Save the image with RollNo as the filename\n",
        "                image_path = f'images/{roll_no}.jpg'\n",
        "                with open(image_path, 'wb') as img_file:\n",
        "                    img_file.write(response.content)\n",
        "                print(f\"Downloaded and saved: {image_path}\")\n",
        "            except requests.exceptions.RequestException as e:\n",
        "                print(f\"Failed to download the image for {roll_no}.jpg: {e}\")\n",
        "        else:\n",
        "            print(f\"Missing image URL for RollNo: {roll_no}. Skipping this entry.\")\n",
        "\n",
        "# Specify the path to your JSON file\n",
        "json_file_path = '/content/user_details.json'  # Replace with your actual JSON file path\n",
        "download_images_from_json(json_file_path)"
      ],
      "metadata": {
        "cellView": "form",
        "id": "Vov1KXNA4wGT"
      },
      "execution_count": null,
      "outputs": []
    },
    {
      "cell_type": "code",
      "source": [
        "#@title **/images Compression**\n",
        "import os\n",
        "import zipfile\n",
        "\n",
        "def zip_images_directory(directory):\n",
        "    zip_filename = 'images.zip'\n",
        "\n",
        "    # Create a zip file with no compression\n",
        "    with zipfile.ZipFile(zip_filename, 'w', zipfile.ZIP_STORED) as zip_file:\n",
        "        # Walk through the directory\n",
        "        for foldername, subfolders, filenames in os.walk(directory):\n",
        "            for filename in filenames:\n",
        "                file_path = os.path.join(foldername, filename)\n",
        "                # Add the file to the zip file, maintaining the directory structure\n",
        "                zip_file.write(file_path, os.path.relpath(file_path, directory))\n",
        "\n",
        "    print(f\"Zipped the images directory into: {zip_filename}\")\n",
        "\n",
        "# Specify the images directory to zip\n",
        "images_directory = 'images'  # Make sure this directory exists\n",
        "zip_images_directory(images_directory)"
      ],
      "metadata": {
        "cellView": "form",
        "id": "NMO3n1WZ7FVm"
      },
      "execution_count": null,
      "outputs": []
    }
  ]
}