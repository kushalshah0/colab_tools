{
  "nbformat": 4,
  "nbformat_minor": 0,
  "metadata": {
    "colab": {
      "provenance": [],
      "authorship_tag": "ABX9TyNK80hmE64TUr3vCUqv758+",
      "include_colab_link": true
    },
    "kernelspec": {
      "name": "python3",
      "display_name": "Python 3"
    },
    "language_info": {
      "name": "python"
    }
  },
  "cells": [
    {
      "cell_type": "markdown",
      "metadata": {
        "id": "view-in-github",
        "colab_type": "text"
      },
      "source": [
        "<a href=\"https://colab.research.google.com/github/kushalshah0/colab_tools/blob/main/idToJson.ipynb\" target=\"_parent\"><img src=\"https://colab.research.google.com/assets/colab-badge.svg\" alt=\"Open In Colab\"/></a>"
      ]
    },
    {
      "cell_type": "code",
      "source": [
        "import requests\n",
        "from bs4 import BeautifulSoup\n",
        "import json\n",
        "from collections import OrderedDict\n",
        "import time\n",
        "\n",
        "def fetch_user_details(user_id):\n",
        "    url = \"#\"\n",
        "    params = {\"u\": user_id}\n",
        "    response = requests.get(url, params=params)\n",
        "    if response.status_code == 200:\n",
        "        soup = BeautifulSoup(response.content, 'html.parser')\n",
        "        image_url = soup.select_one(\"#ContentPlaceHolder1_studentImage img\")['src']\n",
        "        rows = soup.select(\"table.table-striped.table-bordered tbody tr\")\n",
        "        data = OrderedDict()\n",
        "        data[\"Image\"] = image_url\n",
        "        for row in rows:\n",
        "            key = row.find_all('td')[0].text.strip()\n",
        "            value = row.find_all('td')[1].text.strip()\n",
        "            data[key] = value\n",
        "        return data\n",
        "    else:\n",
        "        print(f\"Failed to retrieve data for user ID {user_id}: {response.status_code}\")\n",
        "        return None\n",
        "\n",
        "start_user_id =\n",
        "end_user_id =\n",
        "\n",
        "all_user_details = []\n",
        "\n",
        "for user_id in range(start_user_id, end_user_id + 1):\n",
        "    user_details = fetch_user_details(user_id)\n",
        "    if user_details:\n",
        "        all_user_details.append(user_details)\n",
        "    time.sleep(1)\n",
        "\n",
        "json_data = json.dumps(all_user_details, indent=4)\n",
        "\n",
        "with open(\"user_details.json\", \"w\") as json_file:\n",
        "    json_file.write(json_data)\n",
        "\n",
        "print(\"User details have been successfully fetched and saved to user_details.json\")"
      ],
      "metadata": {
        "id": "uZV2vARGdqHA"
      },
      "execution_count": null,
      "outputs": []
    },
    {
      "cell_type": "code",
      "source": [
        "cat user_details.json"
      ],
      "metadata": {
        "id": "p2iYG-sNdrpR"
      },
      "execution_count": null,
      "outputs": []
    }
  ]
}