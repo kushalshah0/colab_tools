{
  "nbformat": 4,
  "nbformat_minor": 0,
  "metadata": {
    "colab": {
      "provenance": [],
      "authorship_tag": "ABX9TyOzep5ZOKaYCE1QAb0yIJ3q",
      "include_colab_link": true
    },
    "kernelspec": {
      "name": "python3",
      "display_name": "Python 3"
    },
    "language_info": {
      "name": "python"
    }
  },
  "cells": [
    {
      "cell_type": "markdown",
      "metadata": {
        "id": "view-in-github",
        "colab_type": "text"
      },
      "source": [
        "<a href=\"https://colab.research.google.com/github/kushalshah0/colab_tools/blob/main/cess_qr.ipynb\" target=\"_parent\"><img src=\"https://colab.research.google.com/assets/colab-badge.svg\" alt=\"Open In Colab\"/></a>"
      ]
    },
    {
      "cell_type": "code",
      "execution_count": null,
      "metadata": {
        "id": "tjkLvoIv6iok"
      },
      "outputs": [],
      "source": [
        "# Install required libraries\n",
        "!pip install pandas openpyxl qrcode[pil]\n",
        "\n",
        "import pandas as pd\n",
        "import qrcode\n",
        "import os\n",
        "import shutil\n",
        "from google.colab import files\n",
        "\n",
        "# Step 1: Upload the Excel file\n",
        "uploaded = files.upload()\n",
        "\n",
        "# Assuming the uploaded file is named 'bce.xlsx'\n",
        "file_path = 'bce.xlsx'  # Change this if your file has a different name\n",
        "\n",
        "# Step 2: Read the Excel file\n",
        "df = pd.read_excel(file_path)\n",
        "\n",
        "# Convert the 'DOB (BS)' column to datetime, if it's not already\n",
        "df['DOB (BS)'] = pd.to_datetime(df['DOB (BS)'], errors='coerce')\n",
        "\n",
        "# Step 3: Create a directory to save QR codes and text files\n",
        "output_dir = 'qr_codes_and_texts'\n",
        "os.makedirs(output_dir, exist_ok=True)\n",
        "\n",
        "# Step 4: Initialize a variable to accumulate all entries\n",
        "all_entries_text = \"\"\n",
        "\n",
        "# Step 5: Generate text and QR codes for each entry\n",
        "for index, row in df.iterrows():\n",
        "    # Check for missing blood group and replace with '-'\n",
        "    blood_group = row['Blood Group'] if pd.notna(row['Blood Group']) and row['Blood Group'] != '' else '-'\n",
        "\n",
        "    # Format DOB to exclude time and convert to string\n",
        "    dob = row['DOB (BS)'].strftime('%Y-%m-%d') if pd.notna(row['DOB (BS)']) else '-'\n",
        "\n",
        "    # Format the full name to have the first character of each part capitalized\n",
        "    full_name = row['Full Name'].title() if pd.notna(row['Full Name']) else '-'\n",
        "\n",
        "    # Construct the text string\n",
        "    text = (f\"Name: {full_name} \"\n",
        "            f\"Roll No: {row['Roll No']} \"\n",
        "            f\"Address: {row['Address']} \"\n",
        "            f\"Contact No.: {row['Phone No']} \"\n",
        "            f\"DOB: {dob} \"\n",
        "            f\"Blood Group: {blood_group}\\n\")\n",
        "\n",
        "    # Add the text to the accumulated entries with a gap\n",
        "    all_entries_text += text + \"\\n\"  # Add an extra newline for a gap\n",
        "\n",
        "    # Generate QR code\n",
        "    qr = qrcode.QRCode(\n",
        "        version=1,\n",
        "        error_correction=qrcode.constants.ERROR_CORRECT_L,\n",
        "        box_size=10,\n",
        "        border=4,\n",
        "    )\n",
        "    qr.add_data(text)\n",
        "    qr.make(fit=True)\n",
        "\n",
        "    # Create an image from the QR Code instance\n",
        "    img = qr.make_image(fill_color=\"black\", back_color=\"white\")\n",
        "\n",
        "    # Save the image with the roll number in lowercase\n",
        "    roll_no = row['Roll No'].lower()  # Convert roll number to lowercase\n",
        "    img_file_path = os.path.join(output_dir, f'{roll_no}.png')\n",
        "    img.save(img_file_path)\n",
        "\n",
        "    print(f'Entry {index + 1} saved: {img_file_path}')\n",
        "\n",
        "# Step 6: Save all entries to a single text file\n",
        "all_entries_file_path = os.path.join(output_dir, 'all_entries.txt')\n",
        "with open(all_entries_file_path, 'w') as all_entries_file:\n",
        "    all_entries_file.write(all_entries_text)\n",
        "\n",
        "print(f'All entries saved to: {all_entries_file_path}')\n",
        "\n",
        "# Step 7: Zip the output directory for easy download\n",
        "shutil.make_archive(output_dir, 'zip', output_dir)\n",
        "\n",
        "# Step 8: Provide a link to download the zip file\n",
        "files.download(f'{output_dir}.zip')"
      ]
    }
  ]
}