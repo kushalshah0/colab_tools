{
  "nbformat": 4,
  "nbformat_minor": 0,
  "metadata": {
    "colab": {
      "provenance": [],
      "authorship_tag": "ABX9TyNjKXX1F2pv9a2wRLX1tM1B",
      "include_colab_link": true
    },
    "kernelspec": {
      "name": "python3",
      "display_name": "Python 3"
    },
    "language_info": {
      "name": "python"
    }
  },
  "cells": [
    {
      "cell_type": "markdown",
      "metadata": {
        "id": "view-in-github",
        "colab_type": "text"
      },
      "source": [
        "<a href=\"https://colab.research.google.com/github/kushalshah0/colab_tools/blob/main/wpscan.ipynb\" target=\"_parent\"><img src=\"https://colab.research.google.com/assets/colab-badge.svg\" alt=\"Open In Colab\"/></a>"
      ]
    },
    {
      "cell_type": "code",
      "execution_count": null,
      "metadata": {
        "id": "g_a65XqSCdap"
      },
      "outputs": [],
      "source": [
        "!sudo apt-get install git libcurl4-openssl-dev libxml2 libxml2-dev libxslt1-dev ruby-dev build-essential libgmp-dev zlib1g-dev -q"
      ]
    },
    {
      "cell_type": "code",
      "source": [
        "!git clone https://github.com/wpscanteam/wpscan.git\n",
        "\n",
        "%cd wpscan\n",
        "\n",
        "!sudo gem install bundler && bundle install --without test development -q"
      ],
      "metadata": {
        "id": "ZpXViSOTFJGA"
      },
      "execution_count": null,
      "outputs": []
    },
    {
      "cell_type": "code",
      "source": [
        "!gem install wpscan"
      ],
      "metadata": {
        "id": "panUdo28HmGH"
      },
      "execution_count": null,
      "outputs": []
    },
    {
      "cell_type": "code",
      "source": [
        "!wpscan --url {URL} --enumerate u"
      ],
      "metadata": {
        "id": "Pk_yrTrqFnUl"
      },
      "execution_count": null,
      "outputs": []
    }
  ]
}