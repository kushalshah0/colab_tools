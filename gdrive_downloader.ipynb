{
  "nbformat": 4,
  "nbformat_minor": 0,
  "metadata": {
    "colab": {
      "provenance": [],
      "authorship_tag": "ABX9TyNwrNlMpu0K9edML1jyv72C",
      "include_colab_link": true
    },
    "kernelspec": {
      "name": "python3",
      "display_name": "Python 3"
    },
    "language_info": {
      "name": "python"
    }
  },
  "cells": [
    {
      "cell_type": "markdown",
      "metadata": {
        "id": "view-in-github",
        "colab_type": "text"
      },
      "source": [
        "<a href=\"https://colab.research.google.com/github/kushalshah0/colab_tools/blob/main/gdrive_downloader.ipynb\" target=\"_parent\"><img src=\"https://colab.research.google.com/assets/colab-badge.svg\" alt=\"Open In Colab\"/></a>"
      ]
    },
    {
      "cell_type": "code",
      "execution_count": null,
      "metadata": {
        "id": "alYKuPTIY9lc"
      },
      "outputs": [],
      "source": [
        "\n",
        "# Step 1: Install gdown\n",
        "!pip install gdown\n",
        "\n",
        "# Step 2: Download the folder using gdown\n",
        "import gdown\n",
        "import shutil\n",
        "\n",
        "# Replace with your Google Drive folder link\n",
        "folder_url = \"https://drive.google.com/drive/folders/1v2EjFS5wuQfWrwPTnpOEehzuGoBX80DX\"\n",
        "\n",
        "# Download the folder (this will download all contents in the folder, including subfolders)\n",
        "gdown.download_folder(folder_url, quiet=False, use_cookies=False)\n",
        "\n",
        "# Step 3: Compress the downloaded folder into a .zip file\n",
        "output_filename = \"downloaded_folder.zip\"\n",
        "shutil.make_archive(output_filename.replace('.zip', ''), 'zip', './downloaded_folder')\n",
        "\n",
        "print(f\"Folder compressed to {output_filename}.\")"
      ]
    }
  ]
}