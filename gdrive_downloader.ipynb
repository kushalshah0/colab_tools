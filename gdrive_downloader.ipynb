{
  "nbformat": 4,
  "nbformat_minor": 0,
  "metadata": {
    "colab": {
      "provenance": [],
      "authorship_tag": "ABX9TyPI7GPHaG/bs/nIEMJzl/2Y",
      "include_colab_link": true
    },
    "kernelspec": {
      "name": "python3",
      "display_name": "Python 3"
    },
    "language_info": {
      "name": "python"
    }
  },
  "cells": [
    {
      "cell_type": "markdown",
      "metadata": {
        "id": "view-in-github",
        "colab_type": "text"
      },
      "source": [
        "<a href=\"https://colab.research.google.com/github/kushalshah0/colab_tools/blob/main/gdrive_downloader.ipynb\" target=\"_parent\"><img src=\"https://colab.research.google.com/assets/colab-badge.svg\" alt=\"Open In Colab\"/></a>"
      ]
    },
    {
      "cell_type": "code",
      "execution_count": null,
      "metadata": {
        "id": "alYKuPTIY9lc"
      },
      "outputs": [],
      "source": [
        "# Step 1: Install gdown\n",
        "!pip install gdown\n",
        "\n",
        "# Step 2: Import required modules\n",
        "import gdown\n",
        "import re\n",
        "\n",
        "# Step 3: Function to extract the file name and extension from the URL\n",
        "def get_file_name_from_url(url):\n",
        "    match = re.search(r'/uc\\?id=([^&]+)', url)\n",
        "    if match:\n",
        "        file_id = match.group(1)\n",
        "        gdrive_url = f'https://drive.google.com/uc?id={file_id}'\n",
        "        file_name = gdown.download(gdrive_url, quiet=False)\n",
        "        return file_name\n",
        "    else:\n",
        "        raise ValueError('Invalid URL')\n",
        "\n",
        "# Step 4: Specify the URL\n",
        "url = 'https://drive.google.com/uc?id='\n",
        "\n",
        "# Step 5: Download the file and get the file name\n",
        "file_name = get_file_name_from_url(url)\n",
        "print(f'File downloaded: {file_name}')"
      ]
    }
  ]
}