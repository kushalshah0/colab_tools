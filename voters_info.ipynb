{
  "nbformat": 4,
  "nbformat_minor": 0,
  "metadata": {
    "colab": {
      "provenance": [],
      "authorship_tag": "ABX9TyMEfdSOGAFO2+LB/da74Vw+",
      "include_colab_link": true
    },
    "kernelspec": {
      "name": "python3",
      "display_name": "Python 3"
    },
    "language_info": {
      "name": "python"
    }
  },
  "cells": [
    {
      "cell_type": "markdown",
      "metadata": {
        "id": "view-in-github",
        "colab_type": "text"
      },
      "source": [
        "<a href=\"https://colab.research.google.com/github/kushalshah0/colab_tools/blob/main/voters_info.ipynb\" target=\"_parent\"><img src=\"https://colab.research.google.com/assets/colab-badge.svg\" alt=\"Open In Colab\"/></a>"
      ]
    },
    {
      "cell_type": "code",
      "execution_count": 3,
      "metadata": {
        "colab": {
          "base_uri": "https://localhost:8080/"
        },
        "id": "OG9KG8La8FDI",
        "outputId": "698e3db1-d3ee-4cff-d3bd-4a3866abc25d"
      },
      "outputs": [
        {
          "output_type": "stream",
          "name": "stdout",
          "text": [
            "Requirement already satisfied: requests in /usr/local/lib/python3.11/dist-packages (2.32.3)\n",
            "Requirement already satisfied: pandas in /usr/local/lib/python3.11/dist-packages (2.2.2)\n",
            "Requirement already satisfied: beautifulsoup4 in /usr/local/lib/python3.11/dist-packages (4.13.3)\n",
            "Requirement already satisfied: charset-normalizer<4,>=2 in /usr/local/lib/python3.11/dist-packages (from requests) (3.4.1)\n",
            "Requirement already satisfied: idna<4,>=2.5 in /usr/local/lib/python3.11/dist-packages (from requests) (3.10)\n",
            "Requirement already satisfied: urllib3<3,>=1.21.1 in /usr/local/lib/python3.11/dist-packages (from requests) (2.3.0)\n",
            "Requirement already satisfied: certifi>=2017.4.17 in /usr/local/lib/python3.11/dist-packages (from requests) (2025.1.31)\n",
            "Requirement already satisfied: numpy>=1.23.2 in /usr/local/lib/python3.11/dist-packages (from pandas) (1.26.4)\n",
            "Requirement already satisfied: python-dateutil>=2.8.2 in /usr/local/lib/python3.11/dist-packages (from pandas) (2.8.2)\n",
            "Requirement already satisfied: pytz>=2020.1 in /usr/local/lib/python3.11/dist-packages (from pandas) (2025.1)\n",
            "Requirement already satisfied: tzdata>=2022.7 in /usr/local/lib/python3.11/dist-packages (from pandas) (2025.1)\n",
            "Requirement already satisfied: soupsieve>1.2 in /usr/local/lib/python3.11/dist-packages (from beautifulsoup4) (2.6)\n",
            "Requirement already satisfied: typing-extensions>=4.0.0 in /usr/local/lib/python3.11/dist-packages (from beautifulsoup4) (4.12.2)\n",
            "Requirement already satisfied: six>=1.5 in /usr/local/lib/python3.11/dist-packages (from python-dateutil>=2.8.2->pandas) (1.17.0)\n"
          ]
        }
      ],
      "source": [
        "!pip install requests pandas beautifulsoup4\n",
        "\n",
        "import os\n",
        "import requests\n",
        "import pandas as pd\n",
        "from bs4 import BeautifulSoup\n",
        "\n",
        "# Function to extract information (HTML table) from Election Commission of Nepal's official website\n",
        "def extract_voters(state, district, vdc_mun, ward, reg_centre):\n",
        "    data_endpoint = 'https://voterlist.election.gov.np/view_ward.php'\n",
        "    form_data = {\n",
        "        'state': state,\n",
        "        'district': district,\n",
        "        'vdc_mun': vdc_mun,\n",
        "        'ward': ward,\n",
        "        'reg_centre': reg_centre\n",
        "    }\n",
        "    response = requests.post(data_endpoint, data=form_data)\n",
        "    return response.content\n",
        "\n",
        "# Function to load/save voter's information after transforming, extracting\n",
        "def save_csv(table_name, headers, rows):\n",
        "    path = '/content/warehouse'\n",
        "    os.makedirs(path, exist_ok=True)\n",
        "    pd.DataFrame(rows, columns=headers).to_csv(\n",
        "        os.path.join(path, f\"{table_name}.csv\"), index=False)\n",
        "\n",
        "# Returns voter's information inside a Python list\n",
        "def get_tables_rows(table):\n",
        "    voters_record = []\n",
        "    # Using regex to skip the first row which is the header\n",
        "    for tr in table.find_all(\"tr\")[1:]:\n",
        "        voter_record = []\n",
        "        tds = tr.find_all(\"td\")\n",
        "        # Using regex to skip the last cell which is not required to collect\n",
        "        for td in tds[0:-1]:\n",
        "            voter_record.append(td.text.strip())\n",
        "        voters_record.append(voter_record)\n",
        "    return voters_record\n",
        "\n",
        "# Function to obtain only the name of the election center\n",
        "def create_file_name(table):\n",
        "    for th in table.find(\"tr\").find_all(\"th\")[-1:]:\n",
        "        election_center_name = th.text.strip()\n",
        "    return election_center_name.replace(\" \", \"-\").replace(\",\", \"\").replace(\".\", \"\")\n",
        "\n",
        "# Main execution\n",
        "if __name__ == \"__main__\":\n",
        "    voters = extract_voters(state=\"2\", district=\"33\", vdc_mun=\"5353\", ward=\"21\", reg_centre=\"7451\")\n",
        "\n",
        "    soup = BeautifulSoup(voters, \"html.parser\")\n",
        "    tables = soup.find_all(\"table\")\n",
        "\n",
        "    # Naming header/column\n",
        "    column_names = ['sn', 'voter_num', 'voter_name', 'age', 'gender', 'spouse_name', 'parents_name']\n",
        "\n",
        "    # Using the fifth index to select only the table consisting of voter's record or rows\n",
        "    voters_record = get_tables_rows(tables[-1])\n",
        "\n",
        "    # Making name of election center to get unique file name for each of the election center records\n",
        "    file_name = create_file_name(tables[-1])\n",
        "\n",
        "    # Saves to voters-warehouse directory\n",
        "    save_csv(file_name, column_names, voters_record)"
      ]
    }
  ]
}