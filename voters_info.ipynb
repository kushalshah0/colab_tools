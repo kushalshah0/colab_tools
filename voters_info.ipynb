{
  "nbformat": 4,
  "nbformat_minor": 0,
  "metadata": {
    "colab": {
      "provenance": [],
      "authorship_tag": "ABX9TyOC1lLQlTbCFPnYCUlExOdJ",
      "include_colab_link": true
    },
    "kernelspec": {
      "name": "python3",
      "display_name": "Python 3"
    },
    "language_info": {
      "name": "python"
    }
  },
  "cells": [
    {
      "cell_type": "markdown",
      "metadata": {
        "id": "view-in-github",
        "colab_type": "text"
      },
      "source": [
        "<a href=\"https://colab.research.google.com/github/kushalshah0/colab_tools/blob/main/voters_info.ipynb\" target=\"_parent\"><img src=\"https://colab.research.google.com/assets/colab-badge.svg\" alt=\"Open In Colab\"/></a>"
      ]
    },
    {
      "cell_type": "code",
      "execution_count": null,
      "metadata": {
        "id": "OG9KG8La8FDI"
      },
      "outputs": [],
      "source": [
        "# Suppress output of pip install\n",
        "import os\n",
        "import sys\n",
        "\n",
        "# Install required libraries silently\n",
        "!{sys.executable} -m pip install requests pandas beautifulsoup4 > /dev/null 2>&1\n",
        "\n",
        "import requests\n",
        "import pandas as pd\n",
        "from bs4 import BeautifulSoup\n",
        "\n",
        "# Function to extract information (HTML table) from Election Commission of Nepal's official website\n",
        "def extract_voters(state, district, vdc_mun, ward, reg_centre):\n",
        "    data_endpoint = 'https://voterlist.election.gov.np/view_ward.php'\n",
        "    form_data = {\n",
        "        'state': state,\n",
        "        'district': district,\n",
        "        'vdc_mun': vdc_mun,\n",
        "        'ward': ward,\n",
        "        'reg_centre': reg_centre\n",
        "    }\n",
        "    response = requests.post(data_endpoint, data=form_data)\n",
        "    return response.content\n",
        "\n",
        "# Function to load/save voter's information after transforming, extracting\n",
        "def save_csv(table_name, headers, rows):\n",
        "    path = '/content/warehouse'\n",
        "    os.makedirs(path, exist_ok=True)\n",
        "    pd.DataFrame(rows, columns=headers).to_csv(\n",
        "        os.path.join(path, f\"{table_name}.csv\"), index=False)\n",
        "\n",
        "# Returns voter's information inside a Python list\n",
        "def get_tables_rows(table):\n",
        "    voters_record = []\n",
        "    # Using regex to skip the first row which is the header\n",
        "    for tr in table.find_all(\"tr\")[1:]:\n",
        "        voter_record = []\n",
        "        tds = tr.find_all(\"td\")\n",
        "        # Using regex to skip the last cell which is not required to collect\n",
        "        for td in tds[0:-1]:\n",
        "            voter_record.append(td.text.strip())\n",
        "        voters_record.append(voter_record)\n",
        "    return voters_record\n",
        "\n",
        "# Function to obtain only the name of the election center\n",
        "def create_file_name(table):\n",
        "    for th in table.find(\"tr\").find_all(\"th\")[-1:]:\n",
        "        election_center_name = th.text.strip()\n",
        "    return election_center_name.replace(\" \", \"-\").replace(\",\", \"\").replace(\".\", \"\")\n",
        "\n",
        "# Main execution\n",
        "if __name__ == \"__main__\":\n",
        "    voters = extract_voters(state=\"2\", district=\"33\", vdc_mun=\"5353\", ward=\"21\", reg_centre=\"7451\")\n",
        "\n",
        "    soup = BeautifulSoup(voters, \"html.parser\")\n",
        "    tables = soup.find_all(\"table\")\n",
        "\n",
        "    # Naming header/column\n",
        "    column_names = ['sn', 'voter_num', 'voter_name', 'age', 'gender', 'spouse_name', 'parents_name']\n",
        "\n",
        "    # Using the last index to select only the table consisting of voter's record or rows\n",
        "    voters_record = get_tables_rows(tables[-1])\n",
        "\n",
        "    # Making name of election center to get unique file name for each of the election center records\n",
        "    file_name = create_file_name(tables[-1])\n",
        "\n",
        "    # Saves to warehouse directory\n",
        "    save_csv(file_name, column_names, voters_record)\n",
        "\n",
        "    # Print success message\n",
        "    print(f\"Data successfully saved to {file_name}.csv in the '/content/warehouse' directory.\")"
      ]
    }
  ]
}